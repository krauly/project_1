{
 "cells": [
  {
   "cell_type": "markdown",
   "id": "2ba1054c-61ca-4ca3-b738-599db1e93014",
   "metadata": {},
   "source": [
    "JavaScript rendering on a large scale using python."
   ]
  },
  {
   "cell_type": "code",
   "execution_count": 1,
   "id": "5329db64-186f-417b-a6d1-3965620ce260",
   "metadata": {},
   "outputs": [],
   "source": [
    "import pandas as pd\n",
    "import numpy as np\n",
    "import matplotlib.pyplot as plt"
   ]
  },
  {
   "cell_type": "code",
   "execution_count": 19,
   "id": "d1f62997-c8e0-4df9-8d10-3a584ca3fa8e",
   "metadata": {},
   "outputs": [],
   "source": [
    "data1 = pd.read_csv('C:/users/owner/desktop/Text_only.csv')\n",
    "df_text = pd.DataFrame(data1)\n",
    "data2 = pd.read_csv('C:/users/owner/desktop/javascript_only.csv')\n",
    "df_javascript = pd.DataFrame(data2)"
   ]
  },
  {
   "cell_type": "code",
   "execution_count": 17,
   "id": "4d46fece-a216-4de8-9214-9695d49f4f54",
   "metadata": {},
   "outputs": [],
   "source": [
    "dftext = df_text[['Address', 'Status Code', 'Word Count', 'Outlinks', \n",
    "                  'Unique Outlinks', 'Inlinks', 'Unique Inlinks',\n",
    "                  'Canonical Link Element 1']].copy()"
   ]
  },
  {
   "cell_type": "code",
   "execution_count": 20,
   "id": "19279725-5195-4da1-828b-93d0d4828fa3",
   "metadata": {},
   "outputs": [],
   "source": [
    "dfjavascript = df_javascript[['Address', 'Status Code', 'Word Count', 'Outlinks', \n",
    "                             'Unique Outlinks', 'Inlinks', 'Unique Inlinks',\n",
    "                             'Canonical Link Element 1']].copy()"
   ]
  },
  {
   "cell_type": "code",
   "execution_count": 31,
   "id": "1229c003-95e8-401f-94b5-5fa8fbc8d689",
   "metadata": {},
   "outputs": [],
   "source": [
    "df = pd.merge(dftext, dfjavascript, left_on='Address',\n",
    "              right_on='Address', how='outer')"
   ]
  },
  {
   "cell_type": "code",
   "execution_count": 43,
   "id": "55419b22-80b4-4d83-878d-c6fd7deaea75",
   "metadata": {},
   "outputs": [
    {
     "data": {
      "text/plain": [
       "0     0.0\n",
       "1     4.0\n",
       "2     0.0\n",
       "3     0.0\n",
       "4     0.0\n",
       "     ... \n",
       "64    NaN\n",
       "65    NaN\n",
       "66    NaN\n",
       "67    NaN\n",
       "68    NaN\n",
       "Name: Wordcount_diff, Length: 69, dtype: float64"
      ]
     },
     "execution_count": 43,
     "metadata": {},
     "output_type": "execute_result"
    }
   ],
   "source": [
    "#Check the differences from features of each crawl.\n",
    "df['Wordcount_diff'] = df['Word Count_y'] - df['Word Count_x']\n",
    "df['Outlinks_diff'] = df['Outlinks_y'] - df['Outlinks_x']\n",
    "df['Unique_Outlinks_diff'] = df['Unique Outlinks_y'] - df['Unique Outlinks_x']\n",
    "df['Inlinks_diff'] = df['Inlinks_y'] - df['Inlinks_x']\n",
    "\n",
    "df['Wordcount_diff']"
   ]
  },
  {
   "cell_type": "code",
   "execution_count": 45,
   "id": "dbac5993-e80b-4a34-893d-8d300431c770",
   "metadata": {},
   "outputs": [],
   "source": [
    "#verify the equivalence of the canonical links.\n",
    "df['equal_canonicals'] = np.where((df['Canonical Link Element 1_y'] == df['Canonical Link Element 1_x']), 'yes', 'no')\n"
   ]
  },
  {
   "cell_type": "code",
   "execution_count": 44,
   "id": "a38e795c-75a4-43b9-a776-d662893110d5",
   "metadata": {},
   "outputs": [
    {
     "data": {
      "image/png": "[encoded data removed]",
      "text/plain": [
       "<Figure size 432x288 with 1 Axes>"
      ]
     },
     "metadata": {
      "needs_background": "light"
     },
     "output_type": "display_data"
    }
   ],
   "source": [
    "plt.plot(df['equal_canonicals'])\n",
    "plt.show()"
   ]
  }
 ],
 "metadata": {
  "kernelspec": {
   "display_name": "Python 3 (ipykernel)",
   "language": "python",
   "name": "python3"
  },
  "language_info": {
   "codemirror_mode": {
    "name": "ipython",
    "version": 3
   },
   "file_extension": ".py",
   "mimetype": "text/x-python",
   "name": "python",
   "nbconvert_exporter": "python",
   "pygments_lexer": "ipython3",
   "version": "3.8.11"
  },
  "toc-autonumbering": true
 },
 "nbformat": 4,
 "nbformat_minor": 5
}
